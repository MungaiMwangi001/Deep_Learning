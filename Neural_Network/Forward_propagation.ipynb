{
 "cells": [
  {
   "cell_type": "markdown",
   "id": "46aef54c",
   "metadata": {},
   "source": [
    "### what is forward propagation\n",
    "\n",
    "Forward propagation is the fundamental process in a neural network where input data passes through multiple layers to generate an output. It is the process by which input data passes through each layer of neural network to generate output."
   ]
  },
  {
   "cell_type": "markdown",
   "id": "d2fc6ae6",
   "metadata": {},
   "source": [
    "## Implementation of Forward Propagation\n",
    "### 1. Import Required Libraries"
   ]
  },
  {
   "cell_type": "code",
   "execution_count": 1,
   "id": "a16153c8",
   "metadata": {},
   "outputs": [],
   "source": [
    "import numpy as np\n",
    "import pandas as pd"
   ]
  },
  {
   "cell_type": "markdown",
   "id": "dee1c5bf",
   "metadata": {},
   "source": [
    "## Create a saple dataset\n",
    "\n",
    "The dataset consists of CGPA, profile score and salary in LPA.\n",
    "\n",
    "X contains only input features."
   ]
  },
  {
   "cell_type": "code",
   "execution_count": 2,
   "id": "c56ad148",
   "metadata": {},
   "outputs": [],
   "source": [
    "data = {'cgpa': [8.5, 9.2, 7.8], 'profile_score': [85, 92, 78], 'lpa': [10, 12, 8]}\n",
    "df = pd.DataFrame(data)\n",
    "X = df[['cgpa', 'profile_score']].values"
   ]
  },
  {
   "cell_type": "markdown",
   "id": "f8cdeeb9",
   "metadata": {},
   "source": [
    "##  3. Initialize Parameters\n",
    "When initilaizing parameters Random initialization avoids symmetry issues where neurons learn the same function."
   ]
  },
  {
   "cell_type": "code",
   "execution_count": null,
   "id": "9f8c8436",
   "metadata": {},
   "outputs": [],
   "source": [
    "def initialize_parameters():\n",
    "    np.random.seed(1)\n",
    "    W = np.random.randn(2, 1) * 0.01\n",
    "    b = np.zeros((1, 1))\n",
    "    return W, b"
   ]
  },
  {
   "cell_type": "markdown",
   "id": "345567b3",
   "metadata": {},
   "source": [
    "## 4. Define Forward Propagation\n",
    "\n",
    "Z=WX+B computes the linear transformation.\n",
    "Sigmoid activation ensures values remain between 0 and 1."
   ]
  },
  {
   "cell_type": "code",
   "execution_count": null,
   "id": "a27c5c02",
   "metadata": {},
   "outputs": [],
   "source": [
    "def forward_propagation(X, W, b):\n",
    "    Z = np.dot(X, W) + b\n",
    "    A = 1 / (1 + np.exp(-Z))  \n",
    "    return A"
   ]
  },
  {
   "cell_type": "markdown",
   "id": "096b1c42",
   "metadata": {},
   "source": [
    "##  5. Execute forward propagation\n"
   ]
  },
  {
   "cell_type": "code",
   "execution_count": null,
   "id": "47a5d465",
   "metadata": {},
   "outputs": [],
   "source": [
    "W, b = initialize_parameters()\n",
    "A = forward_propagation(X, W, b)\n",
    "print(\"Final Output:\", A)"
   ]
  }
 ],
 "metadata": {
  "kernelspec": {
   "display_name": "myenv",
   "language": "python",
   "name": "python3"
  },
  "language_info": {
   "codemirror_mode": {
    "name": "ipython",
    "version": 3
   },
   "file_extension": ".py",
   "mimetype": "text/x-python",
   "name": "python",
   "nbconvert_exporter": "python",
   "pygments_lexer": "ipython3",
   "version": "3.12.6"
  }
 },
 "nbformat": 4,
 "nbformat_minor": 5
}
