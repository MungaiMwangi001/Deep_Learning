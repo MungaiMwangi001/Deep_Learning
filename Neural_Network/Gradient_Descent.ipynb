{
 "cells": [
  {
   "cell_type": "markdown",
   "id": "4b69b195",
   "metadata": {},
   "source": [
    "### working of gradient descent\n",
    "\n",
    "\n",
    "1. Initialize the parameters of the function with some random values.\n",
    "---- \n",
    "2. Calculate the gradient of the cost function with respect to the parameters.\n",
    "\n",
    "3. Update the parameters by taking a small step in the opposite direction of the gradient.\n",
    "\n",
    "4. Repeat steps 2 and 3 until the algorithm reaches a local or global minimum, where the gradient is zero.\n",
    "\n",
    "Here is a simple example to illustrate the gradient descent algorithm in action. Let's say we have a function f(x) = x2, and we want to find the value of x that minimizes the function. We can use the gradient descent algorithm to find this value."
   ]
  },
  {
   "cell_type": "code",
   "execution_count": 1,
   "id": "0751ee11",
   "metadata": {},
   "outputs": [
    {
     "ename": "ModuleNotFoundError",
     "evalue": "No module named 'tensorflow'",
     "output_type": "error",
     "traceback": [
      "\u001b[31m---------------------------------------------------------------------------\u001b[39m",
      "\u001b[31mModuleNotFoundError\u001b[39m                       Traceback (most recent call last)",
      "\u001b[36mCell\u001b[39m\u001b[36m \u001b[39m\u001b[32mIn[1]\u001b[39m\u001b[32m, line 2\u001b[39m\n\u001b[32m      1\u001b[39m \u001b[38;5;66;03m# Import tensorflow 2 as tensorflow 1\u001b[39;00m\n\u001b[32m----> \u001b[39m\u001b[32m2\u001b[39m \u001b[38;5;28;01mimport\u001b[39;00m\u001b[38;5;250m \u001b[39m\u001b[34;01mtensorflow\u001b[39;00m\u001b[34;01m.\u001b[39;00m\u001b[34;01mcompat\u001b[39;00m\u001b[34;01m.\u001b[39;00m\u001b[34;01mv1\u001b[39;00m\u001b[38;5;250m \u001b[39m\u001b[38;5;28;01mas\u001b[39;00m\u001b[38;5;250m \u001b[39m\u001b[34;01mtf\u001b[39;00m\n\u001b[32m      3\u001b[39m tf.disable_v2_behavior()\n\u001b[32m      5\u001b[39m \u001b[38;5;66;03m# Define the placeholders for\u001b[39;00m\n\u001b[32m      6\u001b[39m \u001b[38;5;66;03m# the input and output data\u001b[39;00m\n",
      "\u001b[31mModuleNotFoundError\u001b[39m: No module named 'tensorflow'"
     ]
    }
   ],
   "source": [
    "# Import tensorflow 2 as tensorflow 1\n",
    "import tensorflow.compat.v1 as tf\n",
    "tf.disable_v2_behavior()\n",
    "\n",
    "# Define the placeholders for\n",
    "# the input and output data\n",
    "x = tf.placeholder(tf.float32)\n",
    "y = tf.placeholder(tf.float32)\n",
    "\n",
    "# Define the placeholders for\n",
    "# the input and output data\n",
    "x = tf.placeholder(tf.float32)\n",
    "y = tf.placeholder(tf.float32)"
   ]
  },
  {
   "cell_type": "markdown",
   "id": "3545e5ca",
   "metadata": {},
   "source": [
    "### Define the variable for the model parameters:"
   ]
  },
  {
   "cell_type": "code",
   "execution_count": 2,
   "id": "09bdc40c",
   "metadata": {},
   "outputs": [
    {
     "ename": "NameError",
     "evalue": "name 'tf' is not defined",
     "output_type": "error",
     "traceback": [
      "\u001b[31m---------------------------------------------------------------------------\u001b[39m",
      "\u001b[31mNameError\u001b[39m                                 Traceback (most recent call last)",
      "\u001b[36mCell\u001b[39m\u001b[36m \u001b[39m\u001b[32mIn[2]\u001b[39m\u001b[32m, line 2\u001b[39m\n\u001b[32m      1\u001b[39m \u001b[38;5;66;03m# Define the model parameters\u001b[39;00m\n\u001b[32m----> \u001b[39m\u001b[32m2\u001b[39m w = \u001b[43mtf\u001b[49m.Variable(\u001b[32m0.5\u001b[39m, name=\u001b[33m\"\u001b[39m\u001b[33mweights\u001b[39m\u001b[33m\"\u001b[39m)\n",
      "\u001b[31mNameError\u001b[39m: name 'tf' is not defined"
     ]
    }
   ],
   "source": [
    "# Define the model parameters\n",
    "w = tf.Variable(0.5, name=\"weights\")"
   ]
  },
  {
   "cell_type": "markdown",
   "id": "1f0bee27",
   "metadata": {},
   "source": [
    "### Define the linear regression model"
   ]
  },
  {
   "cell_type": "code",
   "execution_count": 3,
   "id": "9d8ca4c3",
   "metadata": {},
   "outputs": [
    {
     "ename": "NameError",
     "evalue": "name 'tf' is not defined",
     "output_type": "error",
     "traceback": [
      "\u001b[31m---------------------------------------------------------------------------\u001b[39m",
      "\u001b[31mNameError\u001b[39m                                 Traceback (most recent call last)",
      "\u001b[36mCell\u001b[39m\u001b[36m \u001b[39m\u001b[32mIn[3]\u001b[39m\u001b[32m, line 2\u001b[39m\n\u001b[32m      1\u001b[39m \u001b[38;5;66;03m# Define the linear regression model\u001b[39;00m\n\u001b[32m----> \u001b[39m\u001b[32m2\u001b[39m model = \u001b[43mtf\u001b[49m.add(tf.multiply(x, w), \u001b[32m0.5\u001b[39m)\n",
      "\u001b[31mNameError\u001b[39m: name 'tf' is not defined"
     ]
    }
   ],
   "source": [
    "# Define the linear regression model\n",
    "model = tf.add(tf.multiply(x, w), 0.5)"
   ]
  },
  {
   "cell_type": "markdown",
   "id": "126ea218",
   "metadata": {},
   "source": [
    " ### Define the cost function that we want to minimize. \n",
    " \n",
    " - In this example, we will use the mean squared error (MSE) as the cost function. \n",
    " - The MSE is a popular metric that is used to evaluate the performance of a linear regression model. \n",
    " - It measures the average squared difference between the predicted values and the actual values."
   ]
  },
  {
   "cell_type": "code",
   "execution_count": null,
   "id": "160b7ca8",
   "metadata": {},
   "outputs": [],
   "source": [
    "# Define the cost function (MSE)\n",
    "cost = tf.reduce_mean(tf.square(model - y))"
   ]
  },
  {
   "cell_type": "markdown",
   "id": "39bca9c1",
   "metadata": {},
   "source": [
    "# create the gradient descent optimizer\n"
   ]
  },
  {
   "cell_type": "markdown",
   "id": "b4fb8b4c",
   "metadata": {},
   "source": [
    "we can use the TensorFlow tf.train.GradientDescentOptimizer() function to create an optimizer that uses the gradient descent algorithm to minimize the cost function."
   ]
  },
  {
   "cell_type": "code",
   "execution_count": null,
   "id": "7636a96b",
   "metadata": {},
   "outputs": [],
   "source": [
    "# Create the gradient descent optimizer\n",
    "optimizer = tf.train.GradientDescentOptimizer(learning_rate=0.01)"
   ]
  },
  {
   "cell_type": "markdown",
   "id": "95dd815a",
   "metadata": {},
   "source": [
    "# Minimize the cost function\n"
   ]
  },
  {
   "cell_type": "code",
   "execution_count": null,
   "id": "dad28e27",
   "metadata": {},
   "outputs": [],
   "source": [
    "\n",
    "train = optimizer.minimize(cost)"
   ]
  },
  {
   "cell_type": "markdown",
   "id": "b3e7fa04",
   "metadata": {},
   "source": [
    "#  Train our model"
   ]
  },
  {
   "cell_type": "code",
   "execution_count": null,
   "id": "9fe7a8d3",
   "metadata": {},
   "outputs": [],
   "source": [
    "# Define the toy dataset\n",
    "x_train = [1, 2, 3, 4]\n",
    "y_train = [2, 4, 6, 8]\n",
    "\n",
    "# Create a TensorFlow session\n",
    "with tf.Session() as sess:\n",
    "    # Initialize the variables\n",
    "    sess.run(tf.global_variables_initializer())\n",
    "\n",
    "    # Training loop\n",
    "    for i in range(1000):\n",
    "        sess.run(train,\n",
    "                 feed_dict={x: x_train,\n",
    "                            y: y_train})\n",
    "\n",
    "    # Evaluate the model\n",
    "    w_val = sess.run(w)\n",
    "\n",
    "# Mean Squared Error (MSE) between\n",
    "# the predicted and true output values\n",
    "print(w_val)"
   ]
  }
 ],
 "metadata": {
  "kernelspec": {
   "display_name": "myenv",
   "language": "python",
   "name": "python3"
  },
  "language_info": {
   "codemirror_mode": {
    "name": "ipython",
    "version": 3
   },
   "file_extension": ".py",
   "mimetype": "text/x-python",
   "name": "python",
   "nbconvert_exporter": "python",
   "pygments_lexer": "ipython3",
   "version": "3.12.6"
  }
 },
 "nbformat": 4,
 "nbformat_minor": 5
}
